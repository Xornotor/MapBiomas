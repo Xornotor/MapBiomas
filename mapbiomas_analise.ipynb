{
 "cells": [
  {
   "cell_type": "markdown",
   "metadata": {},
   "source": [
    "# **Análise de dados - MapBiomas**"
   ]
  },
  {
   "cell_type": "markdown",
   "metadata": {},
   "source": [
    "## 1 - Bibliotecas e Configurações Iniciais"
   ]
  },
  {
   "cell_type": "code",
   "execution_count": null,
   "metadata": {},
   "outputs": [],
   "source": [
    "import warnings\n",
    "warnings.simplefilter(action='ignore', category=FutureWarning)\n",
    "\n",
    "import os\n",
    "import numpy as np\n",
    "import pandas as pd\n",
    "import matplotlib.pyplot as plt\n",
    "import seaborn as sns\n",
    "import plotly.express as px\n",
    "\n",
    "sns.set_theme('paper')\n",
    "sns.set_style('darkgrid')\n",
    "\n",
    "if not os.path.exists('images/'): os.mkdir('images')\n",
    "for i in range(1, 4):\n",
    "    i = str(i)\n",
    "    if not os.path.exists('images/level_' + i + '_municipality'):\n",
    "        os.mkdir('images/level_' + i + '_municipality')\n",
    "    if not os.path.exists('images/level_' + i + '_state'):\n",
    "        os.mkdir('images/level_' + i + '_state')"
   ]
  },
  {
   "cell_type": "markdown",
   "metadata": {},
   "source": [
    "## 2 - Dicionários e *Colormaps*"
   ]
  },
  {
   "cell_type": "code",
   "execution_count": null,
   "metadata": {},
   "outputs": [],
   "source": [
    "level_1_traducao =  {   '3. Farming': 'Agropecuária',\n",
    "                        '4. Non Vegetated Area': 'Área Não Vegetada',\n",
    "                        '1. Forest': 'Floresta',\n",
    "                        '2. Non Forest Natural Formation': 'Formação Natural Não Florestal',\n",
    "                        '5. Water': \"Corpo D'água\",\n",
    "                        '6. Non Observed': 'Não observado',\n",
    "                    }"
   ]
  },
  {
   "cell_type": "code",
   "execution_count": null,
   "metadata": {},
   "outputs": [],
   "source": [
    "level_2_traducao =  {   'Agriculture': 'Agricultura',\n",
    "                        'Forest Formation': 'Formação Florestal',\n",
    "                        'River, Lake and Ocean': 'Rio, Lago e Oceano',\n",
    "                        'Pasture': 'Pastagem',\n",
    "                        'Urban Infrastructure': 'Área Urbanizada',\n",
    "                        'Mosaic of Agriculture and Pasture': 'Mosaico de Agricultura e Pastagem',\n",
    "                        'Forest Plantation': 'Silvicultura',\n",
    "                        'Other Non Vegetated Area': 'Outras Áreas não Vegetadas',\n",
    "                        'Wetland': 'Campo Alagado e Área Pantanosa',\n",
    "                        'Grassland': 'Formação Campestre',\n",
    "                        'Savanna Formation': 'Formação Savânica',\n",
    "                        'Non Observed': 'Não observado',\n",
    "                        'Flooded Forest': 'Floresta Alagável',\n",
    "                        'Rocky outcrop': 'Afloramento Rochoso',\n",
    "                        'Mining': 'Mineração',\n",
    "                        'Beach and Dune': 'Praia, Duna e Areal',\n",
    "                        'Wooded Restinga': 'Restinga Arbórea',\n",
    "                        'Restinga Herbácea/Arbustiva': 'Restinga Herbácea',\n",
    "                        'Magrove': 'Mangue',\n",
    "                        'Salt flat': 'Apicum',\n",
    "                        'Other Non Forest Natural Formation': 'Outras Formações Não Florestais',\n",
    "                        'Aquaculture': 'Aquicultura',\n",
    "                    }"
   ]
  },
  {
   "cell_type": "code",
   "execution_count": null,
   "metadata": {},
   "outputs": [],
   "source": [
    "level_3_traducao =  {   'Temporary Crops': 'Lavoura Temporária',\n",
    "                        'Forest Formation': 'Formação Florestal',\n",
    "                        'River, Lake and Ocean': 'Rio, Lago e Oceano',\n",
    "                        'Pasture': 'Pastagem',\n",
    "                        'Urban Infrastructure': 'Área Urbanizada',\n",
    "                        'Mosaic of Agriculture and Pasture': 'Mosaico de Agricultura e Pastagem',\n",
    "                        'Forest Plantation': 'Silvicultura',\n",
    "                        'Other Non Vegetated Area': 'Outras Áreas não Vegetadas',\n",
    "                        'Wetland': 'Campo Alagado e Área Pantanosa',\n",
    "                        'Grassland': 'Formação Campestre',\n",
    "                        'Savanna Formation': 'Formação Savânica',\n",
    "                        'Perennial Crops': 'Lavoura Perene',\n",
    "                        'Non Observed': 'Não observado',\n",
    "                        'Flooded Forest': 'Floresta Alagável',\n",
    "                        'Rocky outcrop': 'Afloramento Rochoso',\n",
    "                        'Mining': 'Mineração',\n",
    "                        'Beach and Dune': 'Praia, Duna e Areal',\n",
    "                        'Wooded Restinga': 'Restinga Arbórea',\n",
    "                        'Restinga Herbácea/Arbustiva': 'Restinga Herbácea',\n",
    "                        'Magrove': 'Mangue',\n",
    "                        'Salt flat': 'Apicum',\n",
    "                        'Other Non Forest Natural Formation': 'Outras Formações Não Florestais',\n",
    "                        'Aquaculture': 'Aquicultura',\n",
    "                    }"
   ]
  },
  {
   "cell_type": "code",
   "execution_count": null,
   "metadata": {},
   "outputs": [],
   "source": [
    "level_1_palette =   {   'Agropecuária': '#E974ED',\n",
    "                        'Área Não Vegetada': '#d4271e',\n",
    "                        'Floresta': '#32a65e',\n",
    "                        'Formação Natural Não Florestal': '#ad975a',\n",
    "                        \"Corpo D'água\": '#0000FF',\n",
    "                        'Não observado': '#999999',\n",
    "                    }"
   ]
  },
  {
   "cell_type": "code",
   "execution_count": null,
   "metadata": {},
   "outputs": [],
   "source": [
    "level_2_palette =  {    'Agricultura': '#E974ED',\n",
    "                        'Formação Florestal': '#1f8d49',\n",
    "                        'Rio, Lago e Oceano': '#2532e4',\n",
    "                        'Pastagem': '#edde8e',\n",
    "                        'Área Urbanizada': '#d4271e',\n",
    "                        'Mosaico de Agricultura e Pastagem': '#ffefc3',\n",
    "                        'Silvicultura': '#7a5900',\n",
    "                        'Outras Áreas não Vegetadas': '#db4d4f',\n",
    "                        'Campo Alagado e Área Pantanosa': '#519799',\n",
    "                        'Formação Campestre': '#d6bc74',\n",
    "                        'Formação Savânica': '#7dc975',\n",
    "                        'Não observado': '#999999',\n",
    "                        'Floresta Alagável': '#026975',\n",
    "                        'Afloramento Rochoso': '#ffaa5f',\n",
    "                        'Mineração': '#9c0027',\n",
    "                        'Praia, Duna e Areal': '#ffa07a',\n",
    "                        'Restinga Arbórea': '#02d659',\n",
    "                        'Restinga Herbácea': '#ad5100',\n",
    "                        'Mangue': '#04381d',\n",
    "                        'Apicum': '#fc8114',\n",
    "                        'Outras Formações Não Florestais': '#d89f5c',\n",
    "                        'Aquicultura': '#091077',\n",
    "                    }"
   ]
  },
  {
   "cell_type": "code",
   "execution_count": null,
   "metadata": {},
   "outputs": [],
   "source": [
    "level_3_palette =  {    'Lavoura Temporária': '#C27BA0',\n",
    "                        'Formação Florestal': '#1f8d49',\n",
    "                        'Rio, Lago e Oceano': '#2532e4',\n",
    "                        'Pastagem': '#edde8e',\n",
    "                        'Área Urbanizada': '#d4271e',\n",
    "                        'Mosaico de Agricultura e Pastagem': '#ffefc3',\n",
    "                        'Silvicultura': '#7a5900',\n",
    "                        'Outras Áreas não Vegetadas': '#db4d4f',\n",
    "                        'Campo Alagado e Área Pantanosa': '#519799',\n",
    "                        'Formação Campestre': '#d6bc74',\n",
    "                        'Formação Savânica': '#7dc975',\n",
    "                        'Lavoura Perene': '#d082de',\n",
    "                        'Não observado': '#999999',\n",
    "                        'Floresta Alagável': '#026975',\n",
    "                        'Afloramento Rochoso': '#ffaa5f',\n",
    "                        'Mineração': '#9c0027',\n",
    "                        'Praia, Duna e Areal': '#ffa07a',\n",
    "                        'Restinga Arbórea': '#02d659',\n",
    "                        'Restinga Herbácea': '#ad5100',\n",
    "                        'Mangue': '#04381d',\n",
    "                        'Apicum': '#fc8114',\n",
    "                        'Outras Formações Não Florestais': '#d89f5c',\n",
    "                        'Aquicultura': '#091077',\n",
    "                    }"
   ]
  },
  {
   "cell_type": "markdown",
   "metadata": {},
   "source": [
    "\n",
    "## 3 - Importação e limpeza do *dataset*"
   ]
  },
  {
   "cell_type": "code",
   "execution_count": null,
   "metadata": {},
   "outputs": [],
   "source": [
    "with pd.ExcelFile('tabela_geral_mapbiomas_col8_biomas_municipios.xlsx') as xls:\n",
    "    origin_df = pd.read_excel(xls, 'COBERTURA_COL8.0')\n",
    "\n",
    "with pd.ExcelFile('Mun_Faixa_de_Fronteira_Cidades_Gemeas_2022.xlsx') as xls:\n",
    "    origin_municipality = pd.read_excel(xls, 'Planilha1')"
   ]
  },
  {
   "cell_type": "code",
   "execution_count": null,
   "metadata": {},
   "outputs": [],
   "source": [
    "df = origin_df.drop(['feature_id', 'biome [municipality]', 'color', 'geocode', 'category'], axis=1)\n",
    "df = df.melt(id_vars=['biome', 'municipality', 'state_acronym', 'class_id',\n",
    "                      'level_0', 'level_1', 'level_2', 'level_3', 'level_4'],\n",
    "            var_name='year', value_name='area')\n",
    "\n",
    "for col in ['biome', 'municipality', 'state_acronym', 'level_0', 'level_1', 'level_2', 'level_3', 'level_4']:\n",
    "    df[col] = df[col].astype('category')\n",
    "    \n",
    "df['year'] = df['year'].astype('int')\n",
    "df['area'].fillna(0, inplace=True)\n",
    "df['level_1'].replace(level_1_traducao, inplace=True)\n",
    "df['level_2'].replace(level_2_traducao, inplace=True)\n",
    "df['level_3'].replace(level_3_traducao, inplace=True)"
   ]
  },
  {
   "cell_type": "markdown",
   "metadata": {},
   "source": [
    "## 4 - Filtragem do *dataset* por municípios de fronteira"
   ]
  },
  {
   "cell_type": "code",
   "execution_count": null,
   "metadata": {},
   "outputs": [],
   "source": [
    "df_frontier = df[df['municipality'].isin(origin_municipality['NM_MUN'])]\n",
    "df_frontier.loc[:, 'municipality'] = pd.Categorical(df_frontier['municipality']).remove_unused_categories()"
   ]
  },
  {
   "cell_type": "markdown",
   "metadata": {},
   "source": [
    "## 5 - Geração de gráficos"
   ]
  },
  {
   "cell_type": "markdown",
   "metadata": {},
   "source": [
    "### 5.1 - Classificação Nível 1 por Estado"
   ]
  },
  {
   "cell_type": "code",
   "execution_count": null,
   "metadata": {},
   "outputs": [],
   "source": [
    "for mun in df_frontier['state_acronym'].unique():\n",
    "    df_mun = df_frontier[df_frontier['state_acronym'] == mun].groupby(['year', 'level_1'], as_index=False)['area'].sum()\n",
    "    fig = sns.relplot(data=df_mun, x='year', y='area', hue='level_1', palette=level_1_palette,\n",
    "                      kind='line').set(title='Fronteiras no estado ' + mun, xlabel='Ano', ylabel='Área (ha)')\n",
    "    sns.move_legend(fig, \"upper right\")\n",
    "    fig.savefig('images/level_1_state/' + mun + '_Level_1.png', dpi=300)\n",
    "    plt.clf()\n",
    "    plt.close()"
   ]
  },
  {
   "cell_type": "markdown",
   "metadata": {},
   "source": [
    "### 5.2 - Classificação Nível 2 por Estado"
   ]
  },
  {
   "cell_type": "code",
   "execution_count": null,
   "metadata": {},
   "outputs": [],
   "source": [
    "for mun in df_frontier['state_acronym'].unique():\n",
    "    df_mun = df_frontier[df_frontier['state_acronym'] == mun].groupby(['year', 'level_2'], as_index=False)['area'].sum()\n",
    "    fig = sns.relplot(data=df_mun, x='year', y='area', hue='level_2', palette=level_2_palette,\n",
    "                      kind='line').set(title='Fronteiras no estado ' + mun, xlabel='Ano', ylabel='Área (ha)')\n",
    "    sns.move_legend(fig, \"upper right\")\n",
    "    fig.savefig('images/level_2_state/' + mun + '_Level_2.png', dpi=300)\n",
    "    plt.clf()\n",
    "    plt.close()"
   ]
  },
  {
   "cell_type": "markdown",
   "metadata": {},
   "source": [
    "### 5.3 - Classificação Nível 3 por Estado"
   ]
  },
  {
   "cell_type": "code",
   "execution_count": null,
   "metadata": {},
   "outputs": [],
   "source": [
    "for mun in df_frontier['state_acronym'].unique():\n",
    "    df_mun = df_frontier[df_frontier['state_acronym'] == mun].groupby(['year', 'level_3'], as_index=False)['area'].sum()\n",
    "    fig = sns.relplot(data=df_mun, x='year', y='area', hue='level_3', palette=level_3_palette,\n",
    "                      kind='line').set(title='Fronteiras no estado ' + mun, xlabel='Ano', ylabel='Área (ha)')\n",
    "    sns.move_legend(fig, \"upper right\")\n",
    "    fig.savefig('images/level_3_state/' + mun + '_Level_3.png', dpi=300)\n",
    "    plt.clf()\n",
    "    plt.close()"
   ]
  },
  {
   "cell_type": "markdown",
   "metadata": {},
   "source": [
    "### 5.4 - Classificação Nível 1 por Município"
   ]
  },
  {
   "cell_type": "code",
   "execution_count": null,
   "metadata": {},
   "outputs": [],
   "source": [
    "for mun in df_frontier['municipality'].unique():\n",
    "    df_mun = df_frontier[df_frontier['municipality'] == mun].groupby(['year', 'level_1'], as_index=False)['area'].sum()\n",
    "    fig = sns.relplot(data=df_mun, x='year', y='area', hue='level_1', palette=level_1_palette,\n",
    "                      kind='line').set(title=mun, xlabel='Ano', ylabel='Área (ha)')\n",
    "    sns.move_legend(fig, \"upper right\")\n",
    "    fig.savefig('images/level_1_municipality/' + mun + '_Level_1.png')\n",
    "    plt.clf()\n",
    "    plt.close()"
   ]
  },
  {
   "cell_type": "markdown",
   "metadata": {},
   "source": [
    "### 5.5 - Classificação Nível 2 por Município"
   ]
  },
  {
   "cell_type": "code",
   "execution_count": null,
   "metadata": {},
   "outputs": [],
   "source": [
    "for mun in df_frontier['municipality'].unique():\n",
    "    df_mun = df_frontier[df_frontier['municipality'] == mun].groupby(['year', 'level_2'], as_index=False)['area'].sum()\n",
    "    fig = sns.relplot(data=df_mun, x='year', y='area', hue='level_2', palette=level_2_palette,\n",
    "                      kind='line').set(title=mun, xlabel='Ano', ylabel='Área (ha)')\n",
    "    sns.move_legend(fig, \"upper right\")\n",
    "    fig.savefig('images/level_2_municipality/' + mun + '_Level_2.png')\n",
    "    plt.clf()\n",
    "    plt.close()"
   ]
  },
  {
   "cell_type": "markdown",
   "metadata": {},
   "source": [
    "### 5.6 - Classificação Nível 3 por Município"
   ]
  },
  {
   "cell_type": "code",
   "execution_count": null,
   "metadata": {},
   "outputs": [],
   "source": [
    "for mun in df_frontier['municipality'].unique():\n",
    "    df_mun = df_frontier[df_frontier['municipality'] == mun].groupby(['year', 'level_3'], as_index=False)['area'].sum()\n",
    "    fig = sns.relplot(data=df_mun, x='year', y='area', hue='level_3', palette=level_3_palette,\n",
    "                      kind='line').set(title=mun, xlabel='Ano', ylabel='Área (ha)')\n",
    "    sns.move_legend(fig, \"upper right\")\n",
    "    fig.savefig('images/level_3_municipality/' + mun + '_Level_3.png')\n",
    "    plt.clf()\n",
    "    plt.close()"
   ]
  }
 ],
 "metadata": {
  "kernelspec": {
   "display_name": "ds",
   "language": "python",
   "name": "python3"
  },
  "language_info": {
   "codemirror_mode": {
    "name": "ipython",
    "version": 3
   },
   "file_extension": ".py",
   "mimetype": "text/x-python",
   "name": "python",
   "nbconvert_exporter": "python",
   "pygments_lexer": "ipython3",
   "version": "3.11.5"
  },
  "orig_nbformat": 4
 },
 "nbformat": 4,
 "nbformat_minor": 2
}
